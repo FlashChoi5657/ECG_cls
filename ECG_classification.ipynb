{
  "metadata": {
    "kernelspec": {
      "language": "python",
      "display_name": "Python 3",
      "name": "python3"
    },
    "language_info": {
      "name": "python",
      "version": "3.10.13",
      "mimetype": "text/x-python",
      "codemirror_mode": {
        "name": "ipython",
        "version": 3
      },
      "pygments_lexer": "ipython3",
      "nbconvert_exporter": "python",
      "file_extension": ".py"
    },
    "kaggle": {
      "accelerator": "gpu",
      "dataSources": [
        {
          "sourceId": 37484,
          "sourceType": "datasetVersion",
          "datasetId": 29414
        },
        {
          "sourceId": 6114424,
          "sourceType": "datasetVersion",
          "datasetId": 3504103
        }
      ],
      "dockerImageVersionId": 30664,
      "isInternetEnabled": true,
      "language": "python",
      "sourceType": "notebook",
      "isGpuEnabled": true
    },
    "colab": {
      "name": "ECG classification",
      "provenance": [],
      "include_colab_link": true
    }
  },
  "nbformat_minor": 0,
  "nbformat": 4,
  "cells": [
    {
      "cell_type": "markdown",
      "metadata": {
        "id": "view-in-github",
        "colab_type": "text"
      },
      "source": [
        "<a href=\"https://colab.research.google.com/github/FlashChoi5657/ECG_cls/blob/main/ECG_classification.ipynb\" target=\"_parent\"><img src=\"https://colab.research.google.com/assets/colab-badge.svg\" alt=\"Open In Colab\"/></a>"
      ]
    },
    {
      "source": [
        "import os\n",
        "import sys\n",
        "from tempfile import NamedTemporaryFile\n",
        "from urllib.request import urlopen\n",
        "from urllib.parse import unquote, urlparse\n",
        "from urllib.error import HTTPError\n",
        "from zipfile import ZipFile\n",
        "import tarfile\n",
        "import shutil\n",
        "\n",
        "CHUNK_SIZE = 40960\n",
        "DATA_SOURCE_MAPPING = 'heartbeat:https%3A%2F%2Fstorage.googleapis.com%2Fkaggle-data-sets%2F29414%2F37484%2Fbundle%2Farchive.zip%3FX-Goog-Algorithm%3DGOOG4-RSA-SHA256%26X-Goog-Credential%3Dgcp-kaggle-com%2540kaggle-161607.iam.gserviceaccount.com%252F20240830%252Fauto%252Fstorage%252Fgoog4_request%26X-Goog-Date%3D20240830T075804Z%26X-Goog-Expires%3D259200%26X-Goog-SignedHeaders%3Dhost%26X-Goog-Signature%3D09980a7381b409b4b69d674bdf06f787e77b70f8da1815c856d8c7a36eb76a966fdab9299771c57edac46abf054ea4ec53b87014a51f352c3cc30c240a77bf07096684407bfca4551d636857cc0c5a3e2822deb586bc8fa24cdc196e650b59226a069180ad335ed15d26e115ee52a775a354356f2d04eb24216ae70137ebc9385db96d840ea970bb8cbe12c9ae8d195404ac2787ed38284bcfbe4a5cf596d490efd22d662b79488bfd61adcd727a70ae17dbdc0a26e8dd2a2eea332a2ec4df6b3dbb9e88d08044a347ba4bb522dbe8ba2753e63b4675440817cc9b29000bcf1351a48ed054bbdd577efa02cba58023616c86caad5fd666a0d71c27104adb157a,mit-bih-arrhythmia-database-modern-2023:https%3A%2F%2Fstorage.googleapis.com%2Fkaggle-data-sets%2F3504103%2F6114424%2Fbundle%2Farchive.zip%3FX-Goog-Algorithm%3DGOOG4-RSA-SHA256%26X-Goog-Credential%3Dgcp-kaggle-com%2540kaggle-161607.iam.gserviceaccount.com%252F20240830%252Fauto%252Fstorage%252Fgoog4_request%26X-Goog-Date%3D20240830T075804Z%26X-Goog-Expires%3D259200%26X-Goog-SignedHeaders%3Dhost%26X-Goog-Signature%3D54289ce5fa6f5f774b22ede4726f1b4dd7062c8f4010d4f4b0a5b94afa8fb28cb1ada8c02f42d6f5a7c265f36256266818cc47b63b922851b8dafe92c6f51d45b0176d986e42702e00dd052394593c8e3a92239820212d361b52afb041c64b7190dd2fc136ab7bce86f7aee898794bf2a068e261aa11bd2684dbf66d7c1700ce147be5f8bab2c2e9de4f09b62b7b61b98fce0418630c882113efe6cbd67c62238d05808d6ebe60b34f36cbcab448c2b2e48b66d6a27f6ae274cc08c7ae6db40cd2e505c381587a0d36b4c09c7406ec4e2672ec411627972d29485be01c4e1616917e09defb8b1f7a200101a0831886cd01b8f360baf3f02544c2fe9d53434694'\n",
        "\n",
        "KAGGLE_INPUT_PATH='/kaggle/input'\n",
        "KAGGLE_WORKING_PATH='/kaggle/working'\n",
        "KAGGLE_SYMLINK='kaggle'\n",
        "\n",
        "!umount /kaggle/input/ 2> /dev/null\n",
        "shutil.rmtree('/kaggle/input', ignore_errors=True)\n",
        "os.makedirs(KAGGLE_INPUT_PATH, 0o777, exist_ok=True)\n",
        "os.makedirs(KAGGLE_WORKING_PATH, 0o777, exist_ok=True)\n",
        "\n",
        "try:\n",
        "  os.symlink(KAGGLE_INPUT_PATH, os.path.join(\"..\", 'input'), target_is_directory=True)\n",
        "except FileExistsError:\n",
        "  pass\n",
        "try:\n",
        "  os.symlink(KAGGLE_WORKING_PATH, os.path.join(\"..\", 'working'), target_is_directory=True)\n",
        "except FileExistsError:\n",
        "  pass\n",
        "\n",
        "for data_source_mapping in DATA_SOURCE_MAPPING.split(','):\n",
        "    directory, download_url_encoded = data_source_mapping.split(':')\n",
        "    download_url = unquote(download_url_encoded)\n",
        "    filename = urlparse(download_url).path\n",
        "    destination_path = os.path.join(KAGGLE_INPUT_PATH, directory)\n",
        "    try:\n",
        "        with urlopen(download_url) as fileres, NamedTemporaryFile() as tfile:\n",
        "            total_length = fileres.headers['content-length']\n",
        "            print(f'Downloading {directory}, {total_length} bytes compressed')\n",
        "            dl = 0\n",
        "            data = fileres.read(CHUNK_SIZE)\n",
        "            while len(data) > 0:\n",
        "                dl += len(data)\n",
        "                tfile.write(data)\n",
        "                done = int(50 * dl / int(total_length))\n",
        "                sys.stdout.write(f\"\\r[{'=' * done}{' ' * (50-done)}] {dl} bytes downloaded\")\n",
        "                sys.stdout.flush()\n",
        "                data = fileres.read(CHUNK_SIZE)\n",
        "            if filename.endswith('.zip'):\n",
        "              with ZipFile(tfile) as zfile:\n",
        "                zfile.extractall(destination_path)\n",
        "            else:\n",
        "              with tarfile.open(tfile.name) as tarfile:\n",
        "                tarfile.extractall(destination_path)\n",
        "            print(f'\\nDownloaded and uncompressed: {directory}')\n",
        "    except HTTPError as e:\n",
        "        print(f'Failed to load (likely expired) {download_url} to path {destination_path}')\n",
        "        continue\n",
        "    except OSError as e:\n",
        "        print(f'Failed to load {download_url} to path {destination_path}')\n",
        "        continue\n",
        "\n",
        "print('Data source import complete.')\n"
      ],
      "metadata": {
        "id": "AQOwTPTPSqa7"
      },
      "cell_type": "code",
      "outputs": [],
      "execution_count": null
    },
    {
      "cell_type": "markdown",
      "source": [
        "In this notebook,  ECG signal visualization, and classification of five categories \"Classes: ['N': 0, 'S': 1, 'V': 2, 'F': 3, 'Q': 4]\" with using the popular database MIT-BIH Arrhythmia Database."
      ],
      "metadata": {
        "id": "jlOxFS0gSqa-"
      }
    },
    {
      "cell_type": "code",
      "source": [
        "# Import necessary libraries\n",
        "import pandas as pd  # For data manipulation and analysis\n",
        "import matplotlib.pyplot as plt  # For plotting and visualization\n",
        "import matplotlib.image as mpimg  # For reading images\n",
        "import numpy as np  # For numerical operations\n",
        "import scipy  # For scientific computations\n",
        "import itertools  # For advanced iteration\n",
        "from datetime import datetime  # For handling date and time"
      ],
      "metadata": {
        "_uuid": "8f2839f25d086af736a60e9eeb907d3b93b6e0e5",
        "_cell_guid": "b1076dfc-b9ad-4769-8c92-a6c4dae69d19",
        "execution": {
          "iopub.status.busy": "2024-05-14T19:17:43.67228Z",
          "iopub.execute_input": "2024-05-14T19:17:43.67311Z",
          "iopub.status.idle": "2024-05-14T19:17:44.734876Z",
          "shell.execute_reply.started": "2024-05-14T19:17:43.673073Z",
          "shell.execute_reply": "2024-05-14T19:17:44.733868Z"
        },
        "trusted": true,
        "id": "MJvagLqaSqa_"
      },
      "execution_count": null,
      "outputs": []
    },
    {
      "cell_type": "markdown",
      "source": [
        "**Visualization**\n",
        "In this part, the electrocardiogram (ECG/EKG) signal for one patient will be visualized\n",
        "Visualization steps and operations subject to DSP courseon the EKG signal"
      ],
      "metadata": {
        "id": "ub9I4iSnSqa_"
      }
    },
    {
      "cell_type": "code",
      "source": [
        "# Load the ECG data from a CSV file into a DataFrame\n",
        "ecg100 = pd.read_csv(\"/kaggle/input/mit-bih-arrhythmia-database-modern-2023/100.csv\")\n",
        "\n",
        "# Display the first few rows of the DataFrame to understand its structure\n",
        "ecg100"
      ],
      "metadata": {
        "execution": {
          "iopub.status.busy": "2024-05-14T19:17:44.736606Z",
          "iopub.execute_input": "2024-05-14T19:17:44.737021Z",
          "iopub.status.idle": "2024-05-14T19:17:45.436781Z",
          "shell.execute_reply.started": "2024-05-14T19:17:44.736995Z",
          "shell.execute_reply": "2024-05-14T19:17:45.435721Z"
        },
        "trusted": true,
        "id": "MpwCxP8SSqa_"
      },
      "execution_count": null,
      "outputs": []
    },
    {
      "cell_type": "code",
      "source": [
        "# Create a figure with a specified size for the plots\n",
        "plt.figure(figsize=(10, 5))\n",
        "\n",
        "# Create the first subplot in a 2-row, 1-column layout\n",
        "plt.subplot(2, 1, 1)\n",
        "# Plot the \"MLII\" column from the DataFrame to visualize the ECG signal for lead MLII\n",
        "plt.plot(ecg100[\"MLII\"])\n",
        "# Set the title for the first subplot\n",
        "plt.title(\"30 minute EKG for MLII of Patient ID 100\")\n",
        "\n",
        "# Create the second subplot in the same 2-row, 1-column layout\n",
        "plt.subplot(2, 1, 2)\n",
        "# Plot the \"V5\" column from the DataFrame to visualize the ECG signal for lead V5\n",
        "plt.plot(ecg100[\"V5\"])\n",
        "# Set the title for the second subplot\n",
        "plt.title(\"30 minute EKG for V5 of Patient ID 100\")\n",
        "\n",
        "# Adjust the layout to ensure that subplots do not overlap\n",
        "plt.tight_layout()"
      ],
      "metadata": {
        "execution": {
          "iopub.status.busy": "2024-05-14T19:17:45.43802Z",
          "iopub.execute_input": "2024-05-14T19:17:45.438375Z",
          "iopub.status.idle": "2024-05-14T19:17:46.537464Z",
          "shell.execute_reply.started": "2024-05-14T19:17:45.438338Z",
          "shell.execute_reply": "2024-05-14T19:17:46.536451Z"
        },
        "trusted": true,
        "id": "HTtvKg9ySqa_"
      },
      "execution_count": null,
      "outputs": []
    },
    {
      "cell_type": "code",
      "source": [
        "# Print descriptive statistics for the \"MLII\" column\n",
        "# This includes count, mean, standard deviation, min, 25th percentile, median (50th percentile), 75th percentile, and max\n",
        "print(ecg100[\"MLII\"].describe(), \"\\n\")\n",
        "\n",
        "# Print descriptive statistics for the \"V5\" column\n",
        "print(ecg100[\"V5\"].describe())"
      ],
      "metadata": {
        "execution": {
          "iopub.status.busy": "2024-05-14T19:17:46.540526Z",
          "iopub.execute_input": "2024-05-14T19:17:46.540931Z",
          "iopub.status.idle": "2024-05-14T19:17:46.598307Z",
          "shell.execute_reply.started": "2024-05-14T19:17:46.540881Z",
          "shell.execute_reply": "2024-05-14T19:17:46.597178Z"
        },
        "trusted": true,
        "id": "GUWcZQKpSqa_"
      },
      "execution_count": null,
      "outputs": []
    },
    {
      "cell_type": "code",
      "source": [
        "time = 8  # 8 seconds of data\n",
        "fs = 360 # Sampling frequency (Hz)\n",
        "\n",
        "MLII_data = ecg100[0: time*fs][\"MLII\"].values\n",
        "MLIIF = scipy.fft.fft(MLII_data)\n",
        "\n",
        "V5_data = ecg100[0: time*fs][\"V5\"].values\n",
        "V5F = scipy.fft.fft(V5_data)\n",
        "\n",
        "t = ecg100[0: time*fs][\"time_ms\"].values\n",
        "frequencies = np.fft.fftfreq(len(V5_data), 1/fs)\n",
        "\n",
        "plt.subplot(2, 2, 1)\n",
        "plt.plot(t, MLII_data)\n",
        "plt.title(\"First 8 seconds of MLII signal\")\n",
        "plt.xlabel('Time (mS)')\n",
        "\n",
        "plt.subplot(2, 2, 2)\n",
        "plt.plot(t, V5_data)\n",
        "plt.title(\"First 8 seconds of V5 signal\")\n",
        "plt.xlabel('Time (mS)')\n",
        "\n",
        "plt.subplot(2, 2, 3)\n",
        "plt.plot(frequencies, np.abs(MLIIF))\n",
        "plt.xlabel('Frequency (Hz)')\n",
        "plt.ylabel('Magnitude')\n",
        "plt.title('FFT of MLII Signal')\n",
        "# Set axis limits\n",
        "plt.ylim(0, 100)\n",
        "plt.xlim(0, 150)\n",
        "plt.grid(True)\n",
        "\n",
        "plt.subplot(2, 2, 4)\n",
        "plt.plot(frequencies, np.abs(V5F))\n",
        "plt.xlabel('Frequency (Hz)')\n",
        "plt.ylabel('Magnitude')\n",
        "plt.title('FFT of V5 Signal')\n",
        "# Set axis limits\n",
        "plt.ylim(0, 100)\n",
        "plt.xlim(0, 150)\n",
        "plt.grid(True)\n",
        "\n",
        "# Adjust layout\n",
        "plt.tight_layout()\n",
        "\n",
        "# Display the plot\n",
        "plt.show()"
      ],
      "metadata": {
        "execution": {
          "iopub.status.busy": "2024-05-14T19:17:46.601483Z",
          "iopub.execute_input": "2024-05-14T19:17:46.601791Z",
          "iopub.status.idle": "2024-05-14T19:17:47.83302Z",
          "shell.execute_reply.started": "2024-05-14T19:17:46.601762Z",
          "shell.execute_reply": "2024-05-14T19:17:47.832045Z"
        },
        "trusted": true,
        "id": "dqK8YoflSqbA"
      },
      "execution_count": null,
      "outputs": []
    },
    {
      "cell_type": "code",
      "source": [
        "# Define bandpass filter parameters\n",
        "lowcut = 0.5  # Low cutoff frequency (Hz)\n",
        "highcut = 40  # High cutoff frequency (Hz)\n",
        "order = 4    # Filter order\n",
        "\n",
        "# Design the bandpass filter\n",
        "nyquist = 0.5 * fs\n",
        "low = lowcut / nyquist\n",
        "high = highcut / nyquist\n",
        "b, a = scipy.signal.butter(order, [low, high], btype='band')\n",
        "\n",
        "# Plot the frequency response of the filter\n",
        "w, h = scipy.signal.freqz(b, a, worN=8000)\n",
        "frequencies = (fs * 0.5 / np.pi) * w\n",
        "plt.figure(figsize=(6, 2))\n",
        "plt.plot(frequencies, abs(h), 'b')\n",
        "plt.title('Butterworth Filter Frequency Response')\n",
        "plt.xlabel('Frequency (Hz)')\n",
        "plt.ylabel('Gain')\n",
        "plt.grid(True)\n",
        "plt.show()"
      ],
      "metadata": {
        "execution": {
          "iopub.status.busy": "2024-05-14T19:17:47.834192Z",
          "iopub.execute_input": "2024-05-14T19:17:47.834647Z",
          "iopub.status.idle": "2024-05-14T19:17:48.535365Z",
          "shell.execute_reply.started": "2024-05-14T19:17:47.834614Z",
          "shell.execute_reply": "2024-05-14T19:17:48.534302Z"
        },
        "trusted": true,
        "id": "asV1QumfSqbA"
      },
      "execution_count": null,
      "outputs": []
    },
    {
      "cell_type": "markdown",
      "source": [
        "Apply filters to the ECG signals"
      ],
      "metadata": {
        "id": "YG5EEttmSqbA"
      }
    },
    {
      "cell_type": "code",
      "source": [
        "filtered_MLII_signal = scipy.signal.filtfilt(b, a, MLII_data)\n",
        "# Plot original and filtered signals\n",
        "plt.figure(figsize=(12, 6))\n",
        "plt.plot(t, MLII_data, 'b', label='Original MLII ECG Signal')\n",
        "plt.plot(t, filtered_MLII_signal, 'r', label='Filtered MLII ECG Signal')\n",
        "plt.title('ECG Signal (MLII) with Bandpass Filter')\n",
        "plt.xlabel('Time (s)')\n",
        "plt.ylabel('Amplitude')\n",
        "plt.legend()\n",
        "plt.grid(True)\n",
        "plt.show()\n",
        "\n",
        "filtered_V5_signal = scipy.signal.filtfilt(b, a, V5_data)\n",
        "# Plot original and filtered signals\n",
        "plt.figure(figsize=(12, 6))\n",
        "plt.plot(t, V5_data, 'b', label='Original V5 ECG Signal')\n",
        "plt.plot(t, filtered_V5_signal, 'r', label='Filtered V5 ECG Signal')\n",
        "plt.title('ECG Signal (V5) with Bandpass Filter')\n",
        "plt.xlabel('Time (s)')\n",
        "plt.ylabel('Amplitude')\n",
        "plt.legend()\n",
        "plt.grid(True)\n",
        "plt.show()"
      ],
      "metadata": {
        "execution": {
          "iopub.status.busy": "2024-05-14T19:17:48.536732Z",
          "iopub.execute_input": "2024-05-14T19:17:48.537575Z",
          "iopub.status.idle": "2024-05-14T19:17:49.307279Z",
          "shell.execute_reply.started": "2024-05-14T19:17:48.537537Z",
          "shell.execute_reply": "2024-05-14T19:17:49.306263Z"
        },
        "trusted": true,
        "id": "xTVGEMUdSqbA"
      },
      "execution_count": null,
      "outputs": []
    },
    {
      "cell_type": "code",
      "source": [
        "MLIIFF = scipy.fft.fft(filtered_MLII_signal)\n",
        "V5FF = scipy.fft.fft(filtered_V5_signal)\n",
        "frequencies = np.fft.fftfreq(len(filtered_V5_signal), 1/fs)\n",
        "\n",
        "plt.subplot(2, 2, 1)\n",
        "plt.plot(t, filtered_MLII_signal)\n",
        "plt.title(\"First 8 seconds of MLII signal\")\n",
        "plt.xlabel('Time (mS)')\n",
        "\n",
        "plt.subplot(2, 2, 2)\n",
        "plt.plot(t, filtered_V5_signal)\n",
        "plt.title(\"First 8 seconds of V5 signal\")\n",
        "plt.xlabel('Time (mS)')\n",
        "\n",
        "plt.subplot(2, 2, 3)\n",
        "plt.plot(frequencies, np.abs(MLIIFF))\n",
        "plt.xlabel('Frequency (Hz)')\n",
        "plt.ylabel('Magnitude')\n",
        "plt.title('FFT of MLII filtered  Signal')\n",
        "# Set axis limits\n",
        "plt.ylim(0, 100)\n",
        "plt.xlim(0, 150)\n",
        "plt.grid(True)\n",
        "\n",
        "plt.subplot(2, 2, 4)\n",
        "plt.plot(frequencies, np.abs(V5FF))\n",
        "plt.xlabel('Frequency (Hz)')\n",
        "plt.ylabel('Magnitude')\n",
        "plt.title('FFT of V5 filtered Signal')\n",
        "# Set axis limits\n",
        "plt.ylim(0, 100)\n",
        "plt.xlim(0, 150)\n",
        "plt.grid(True)\n",
        "\n",
        "# Adjust layout\n",
        "plt.tight_layout()\n",
        "\n",
        "# Display the plot\n",
        "plt.show()"
      ],
      "metadata": {
        "execution": {
          "iopub.status.busy": "2024-05-14T19:17:49.308803Z",
          "iopub.execute_input": "2024-05-14T19:17:49.309655Z"
        },
        "trusted": true,
        "id": "l5FNXSQaSqbA"
      },
      "execution_count": null,
      "outputs": []
    },
    {
      "cell_type": "markdown",
      "source": [
        "**ECG Diagnosis Using 1D CNN**"
      ],
      "metadata": {
        "id": "GjLvtgglSqbB"
      }
    },
    {
      "cell_type": "code",
      "source": [
        "train = pd.read_csv('/kaggle/input/heartbeat/mitbih_train.csv', header=None)\n",
        "test = pd.read_csv('/kaggle/input/heartbeat/mitbih_test.csv', header=None)\n",
        "\n",
        "X_train, y_train = train.iloc[:, :187], train[187]\n",
        "X_test, y_test = test.iloc[:, :187], test[187]"
      ],
      "metadata": {
        "trusted": true,
        "id": "_5SOsmQqSqbB"
      },
      "execution_count": null,
      "outputs": []
    },
    {
      "cell_type": "code",
      "source": [
        "import torch\n",
        "import torch.nn as nn\n",
        "import torch.optim as optim\n",
        "from torch.utils.data import TensorDataset, DataLoader\n",
        "\n",
        "# Convert data to PyTorch tensors\n",
        "X_train_tensor = torch.tensor(X_train.values, dtype=torch.float32).unsqueeze(1)  # Add channel dimension\n",
        "y_train_tensor = torch.tensor(y_train.values, dtype=torch.long)\n",
        "X_test_tensor = torch.tensor(X_test.values, dtype=torch.float32).unsqueeze(1)  # Add channel dimension\n",
        "y_test_tensor = torch.tensor(y_test.values, dtype=torch.long)\n",
        "\n",
        "# Create DataLoader for training and testing data\n",
        "train_dataset = TensorDataset(X_train_tensor, y_train_tensor)\n",
        "test_dataset = TensorDataset(X_test_tensor, y_test_tensor)\n",
        "\n",
        "batch_size = 64\n",
        "train_loader = DataLoader(train_dataset, batch_size=batch_size, shuffle=True)\n",
        "test_loader = DataLoader(test_dataset, batch_size=batch_size)\n",
        "\n",
        "# Define the model\n",
        "class ECGNet(nn.Module):\n",
        "    def __init__(self, num_classes):\n",
        "        super(ECGNet, self).__init__()\n",
        "        # Layer 1\n",
        "        self.conv1 = nn.Conv1d(in_channels=1, out_channels=128, kernel_size=80, stride=4, padding=38)\n",
        "        self.bn1 = nn.BatchNorm1d(128)\n",
        "        self.maxpool1 = nn.MaxPool1d(kernel_size=3, stride=2, padding=1)  # Adjusted kernel size and stride\n",
        "        # Layer 2\n",
        "        self.conv2 = nn.Conv1d(in_channels=128, out_channels=128, kernel_size=3, padding=1)\n",
        "        self.bn2 = nn.BatchNorm1d(128)\n",
        "        self.maxpool2 = nn.MaxPool1d(kernel_size=3, stride=2, padding=1)  # Adjusted kernel size and stride\n",
        "        # Layer 3\n",
        "        self.conv3 = nn.Conv1d(in_channels=128, out_channels=256, kernel_size=3, padding=1)\n",
        "        self.bn3 = nn.BatchNorm1d(256)\n",
        "        self.maxpool3 = nn.MaxPool1d(kernel_size=3, stride=2, padding=1)  # Adjusted kernel size and stride\n",
        "        # Layer 4\n",
        "        self.conv4 = nn.Conv1d(in_channels=256, out_channels=512, kernel_size=3, padding=1)\n",
        "        self.bn4 = nn.BatchNorm1d(512)\n",
        "        self.maxpool4 = nn.MaxPool1d(kernel_size=3, stride=2, padding=1)  # Adjusted kernel size and stride\n",
        "        # Output layer\n",
        "        self.avgpool = nn.AdaptiveAvgPool1d(1)  # AdaptiveAvgPool1d to handle variable input lengths\n",
        "        self.fc = nn.Linear(512, num_classes)\n",
        "        self.log_softmax = nn.LogSoftmax(dim=1)\n",
        "\n",
        "    def forward(self, x):\n",
        "        # Layer 1\n",
        "        x = self.maxpool1(self.bn1(torch.relu(self.conv1(x))))\n",
        "        # Layer 2\n",
        "        x = self.maxpool2(self.bn2(torch.relu(self.conv2(x))))\n",
        "        # Layer 3\n",
        "        x = self.maxpool3(self.bn3(torch.relu(self.conv3(x))))\n",
        "        # Layer 4\n",
        "        x = self.maxpool4(self.bn4(torch.relu(self.conv4(x))))\n",
        "        # Output layer\n",
        "        x = self.avgpool(x)\n",
        "        x = x.view(x.size(0), -1)\n",
        "        x = self.fc(x)\n",
        "        x = self.log_softmax(x)\n",
        "        return x\n",
        "\n",
        "# Instantiate the model\n",
        "num_classes = 5  # Change to the actual number of classes in your dataset\n",
        "model = ECGNet(num_classes)\n",
        "# Define loss function and optimizer\n",
        "criterion = nn.NLLLoss()\n",
        "optimizer = optim.Adam(model.parameters(), lr=0.001)\n",
        "\n",
        "\n",
        "# Training the model\n",
        "num_epochs = 10\n",
        "start_time = datetime.now()\n",
        "for epoch in range(num_epochs):\n",
        "    model.train()\n",
        "    train_loss = 0.0\n",
        "    correct = 0\n",
        "    total = 0\n",
        "    for inputs, labels in train_loader:\n",
        "        optimizer.zero_grad()\n",
        "        outputs = model(inputs)\n",
        "        loss = criterion(outputs, labels)\n",
        "        loss.backward()\n",
        "        optimizer.step()\n",
        "        train_loss += loss.item()\n",
        "        _, predicted = torch.max(outputs, 1)\n",
        "        total += labels.size(0)\n",
        "        correct += (predicted == labels).sum().item()\n",
        "    train_accuracy = 100 * correct / total\n",
        "    print(f'Epoch [{epoch+1}/{num_epochs}], Train Loss: {train_loss:.4f}, Train Accuracy: {train_accuracy:.2f}%')\n",
        "end_time = datetime.now()\n",
        "print(\"\\nTotal training time: {}\".format(end_time - start_time))\n",
        "\n",
        "# Evaluation on test set\n",
        "model.eval()\n",
        "test_loss = 0.0\n",
        "correct = 0\n",
        "total = 0\n",
        "with torch.no_grad():\n",
        "    for inputs, labels in test_loader:\n",
        "        outputs = model(inputs)\n",
        "        loss = criterion(outputs, labels)\n",
        "        test_loss += loss.item()\n",
        "        _, predicted = torch.max(outputs, 1)\n",
        "        total += labels.size(0)\n",
        "        correct += (predicted == labels).sum().item()\n",
        "\n",
        "test_accuracy = 100 * correct / total\n",
        "print(f'Test Loss: {test_loss:.4f}, Test Accuracy: {test_accuracy:.2f}%')\n"
      ],
      "metadata": {
        "trusted": true,
        "id": "JOvsCKClSqbB"
      },
      "execution_count": null,
      "outputs": []
    }
  ]
}